{
  "nbformat": 4,
  "nbformat_minor": 0,
  "metadata": {
    "colab": {
      "name": "COMP527CA1_binary.ipynb",
      "provenance": [],
      "collapsed_sections": [],
      "authorship_tag": "ABX9TyMNJTDdKdF3b8OPZs/B7D+V",
      "include_colab_link": true
    },
    "kernelspec": {
      "name": "python3",
      "display_name": "Python 3"
    },
    "language_info": {
      "name": "python"
    }
  },
  "cells": [
    {
      "cell_type": "markdown",
      "metadata": {
        "id": "view-in-github",
        "colab_type": "text"
      },
      "source": [
        "<a href=\"https://colab.research.google.com/github/evegarcianz/Repository/blob/main/COMP527CA1_binary.ipynb\" target=\"_parent\"><img src=\"https://colab.research.google.com/assets/colab-badge.svg\" alt=\"Open In Colab\"/></a>"
      ]
    },
    {
      "cell_type": "code",
      "execution_count": 31,
      "metadata": {
        "id": "UhKwxbPzoITX"
      },
      "outputs": [],
      "source": [
        "import pandas as pd\n",
        "import numpy as np\n",
        "\n"
      ]
    },
    {
      "cell_type": "markdown",
      "source": [
        "Functions of X and labels "
      ],
      "metadata": {
        "id": "gcYWJNk7O2fl"
      }
    },
    {
      "cell_type": "code",
      "source": [
        "def X_and_labels_train(dataframe,first_class,second_class):\n",
        "  data_array=np.array(dataframe)\n",
        "  np.random.shuffle(data_array)\n",
        "  class_mask=np.logical_or(data_array[:,4]==first_class, data_array[:,4]==second_class)\n",
        "  array_class1_class2=data_array[class_mask,:]\n",
        "  array_class1_class2=np.where(array_class1_class2==first_class,1,array_class1_class2)\n",
        "  array_class1_class2=np.where(array_class1_class2==second_class,-1,array_class1_class2)\n",
        "  X_train_class1_class2=array_class1_class2[:,0:-1]\n",
        "  labels_train_class1_class2=array_class1_class2[:,-1]\n",
        "  return X_train_class1_class2, labels_train_class1_class2"
      ],
      "metadata": {
        "id": "HT-B4g5kajBe"
      },
      "execution_count": 32,
      "outputs": []
    },
    {
      "cell_type": "code",
      "source": [
        "def X_and_labels_test(dataframe,first_class,second_class):\n",
        "  data_array=np.array(dataframe)\n",
        "  class_mask=np.logical_or(data_array[:,4]==first_class, data_array[:,4]==second_class)\n",
        "  array_class1_class2=data_array[class_mask,:]\n",
        "  array_class1_class2=np.where(array_class1_class2==\n",
        "  first_class,1,array_class1_class2)\n",
        "  array_class1_class2=np.where(array_class1_class2==second_class,-1,array_class1_class2)\n",
        "  X_train_class1_class2=array_class1_class2[:,0:-1]\n",
        "  labels_train_class1_class2=array_class1_class2[:,-1]\n",
        "  return X_train_class1_class2, labels_train_class1_class2"
      ],
      "metadata": {
        "id": "xhbZBUFvpuB5"
      },
      "execution_count": 33,
      "outputs": []
    },
    {
      "cell_type": "markdown",
      "source": [
        "### Training the algorithm"
      ],
      "metadata": {
        "id": "u8O41fmTPlw4"
      }
    },
    {
      "cell_type": "markdown",
      "source": [
        "Perceptron fit"
      ],
      "metadata": {
        "id": "qaVSLsfX0UeH"
      }
    },
    {
      "cell_type": "code",
      "source": [
        "def perceptron_1v1_fit(traindf,testdf,classA,classB):\n",
        "  X_train_class1_class2, labels_train_class1_class2=X_and_labels_train(traindf,classA,classB)\n",
        "  X_test_class1_class2, labels_test_class1_class2=X_and_labels_test(testdf,classA,classB)\n",
        "\n",
        "  W=np.zeros(X_train_class1_class2.shape[1])\n",
        "  b=0\n",
        "  miu=0.0001\n",
        "  loss_function=0\n",
        "\n",
        "  for iter in range(1,20):\n",
        "    for (x,y) in zip(X_train_class1_class2,labels_train_class1_class2):\n",
        "      #print('------------')\n",
        "      #print(f'iter number {iter}')\n",
        "      #print(f'This is x={x}')\n",
        "      #print(f'This is y= {y}')\n",
        "      #print(f'This is current W= {W}')\n",
        "      #print(f'This is current b= {b}')\n",
        "      a=np.dot(np.transpose(W),x)+b\n",
        "      #print(f'This is a= {a}')\n",
        "      #print(f'This is the loss function -y * a = {-y*a}')\n",
        "      loss_function=loss_function+(-y*a)\n",
        "      #print(f'This is summatory of  loss function {loss_function}')\n",
        "      if y*a <= 0:\n",
        "        W=W+(miu*y*x)\n",
        "        b=b+(miu*y)\n",
        "      #print('After y*a conditional')\n",
        "      #print(f'This is updated W= {W}')\n",
        "      #print(f'This is updated b= {b}')\n",
        "\n",
        "\n",
        "      \n",
        "  return W,b,loss_function, X_test_class1_class2, labels_test_class1_class2\n"
      ],
      "metadata": {
        "id": "85zG8M6FuaRI"
      },
      "execution_count": 34,
      "outputs": []
    },
    {
      "cell_type": "markdown",
      "source": [
        "### Predict function"
      ],
      "metadata": {
        "id": "cKULl73t0ZQX"
      }
    },
    {
      "cell_type": "code",
      "source": [
        "def predict(X_test_class1_class2,W,b):\n",
        "  predicted=np.array([])\n",
        "  for x in X_test_class1_class2:\n",
        "    pred=np.dot(np.transpose(W),x)+b\n",
        "    if pred > 0:\n",
        "      predicted=np.append(predicted,1)\n",
        "    else:\n",
        "      predicted=np.append(predicted,-1)\n",
        "  return predicted"
      ],
      "metadata": {
        "id": "M5KchSBy1DNF"
      },
      "execution_count": 35,
      "outputs": []
    },
    {
      "cell_type": "markdown",
      "source": [
        "Calculating accuracy"
      ],
      "metadata": {
        "id": "veTB8PDfnL1f"
      }
    },
    {
      "cell_type": "code",
      "source": [
        "def scores(y_pred,y_true):\n",
        "  ConfusionMatrix = np.zeros((2,2), int)\n",
        "  for (pred,lab) in zip(predicted,labels_test_class1_class2):\n",
        "    if pred==1:\n",
        "      if pred==lab:\n",
        "        ConfusionMatrix[0,0]+=1\n",
        "      if pred!=lab:\n",
        "        ConfusionMatrix[0,1]+=1\n",
        "    if pred==-1:\n",
        "      if pred==lab:\n",
        "        ConfusionMatrix[1,1]+=1\n",
        "      if pred!=lab:\n",
        "        ConfusionMatrix[0,1]+=1\n",
        "  \n",
        "  tp=ConfusionMatrix[0,0]\n",
        "  fp=ConfusionMatrix[0,1]\n",
        "  fn=ConfusionMatrix[1,0]\n",
        "  tn=ConfusionMatrix[1,1]\n",
        "  accuracy= (tp+tn)/(tp+fp+fn+tn)\n",
        "  precision= tp/(tp+fp)\n",
        "  recall= tp/(tp+fn)\n",
        "  f_score=(2*precision*recall)/(precision+recall)\n",
        "\n",
        "  \n",
        "\n",
        "  return f'Accuracy= {accuracy}, Precision= {precision}, Recall= {recall}, F-Score= {f_score}'\n",
        " "
      ],
      "metadata": {
        "id": "x3IK_jv6fe8I"
      },
      "execution_count": 36,
      "outputs": []
    },
    {
      "cell_type": "markdown",
      "source": [
        "### Read Train and Test Data"
      ],
      "metadata": {
        "id": "5jy3dAR_vUfi"
      }
    },
    {
      "cell_type": "code",
      "source": [
        "df_train = pd.read_csv('/content/train.data', header=None)\n"
      ],
      "metadata": {
        "id": "stTBd8sjoizN"
      },
      "execution_count": 37,
      "outputs": []
    },
    {
      "cell_type": "code",
      "source": [
        "df_test = pd.read_csv('/content/test.data', header=None)"
      ],
      "metadata": {
        "id": "c6HzBc1To8WK"
      },
      "execution_count": 38,
      "outputs": []
    },
    {
      "cell_type": "markdown",
      "source": [
        "For Class 1 and 2"
      ],
      "metadata": {
        "id": "YKcYMq72NCOc"
      }
    },
    {
      "cell_type": "markdown",
      "source": [
        "Fitting: Calculating weights, bias, loss function, X_test and labels_test"
      ],
      "metadata": {
        "id": "JNeYhSz1MkwB"
      }
    },
    {
      "cell_type": "code",
      "source": [
        "W,b,loss_function, X_test_class1_class2, labels_test_class1_class2=perceptron_1v1_fit(df_train,df_test,'class-1','class-2')"
      ],
      "metadata": {
        "id": "NI8pNcv0WlDl"
      },
      "execution_count": 39,
      "outputs": []
    },
    {
      "cell_type": "markdown",
      "source": [
        "Printing W, b and loss function"
      ],
      "metadata": {
        "id": "bF3C4UwEM0cl"
      }
    },
    {
      "cell_type": "code",
      "source": [
        "print(f'Weights are {W}')\n",
        "print(f'b is {b}')\n",
        "print(f'The loss function is {loss_function}')"
      ],
      "metadata": {
        "colab": {
          "base_uri": "https://localhost:8080/"
        },
        "id": "ZNg-4O5AuwA4",
        "outputId": "d222c90e-bae5-4cf7-cb63-2ddf32ed67e9"
      },
      "execution_count": 40,
      "outputs": [
        {
          "output_type": "stream",
          "name": "stdout",
          "text": [
            "Weights are [0.00020000000000000025 0.0005 -0.0007000000000000001 -0.00027]\n",
            "b is 0.0001\n",
            "The loss function is -1.8659309999999893\n"
          ]
        }
      ]
    },
    {
      "cell_type": "markdown",
      "source": [
        "Getting prediction"
      ],
      "metadata": {
        "id": "WxjAKyN2M6gt"
      }
    },
    {
      "cell_type": "code",
      "source": [
        "predicted=predict(X_test_class1_class2,W,b)\n",
        "predicted"
      ],
      "metadata": {
        "colab": {
          "base_uri": "https://localhost:8080/"
        },
        "id": "O-iXyRWfK89Q",
        "outputId": "099951cf-5505-4ff4-978c-157a8625c9fb"
      },
      "execution_count": 41,
      "outputs": [
        {
          "output_type": "execute_result",
          "data": {
            "text/plain": [
              "array([ 1.,  1.,  1.,  1.,  1.,  1.,  1.,  1.,  1.,  1., -1., -1., -1.,\n",
              "       -1., -1., -1., -1., -1., -1., -1.])"
            ]
          },
          "metadata": {},
          "execution_count": 41
        }
      ]
    },
    {
      "cell_type": "markdown",
      "source": [
        "Getting Accuracy"
      ],
      "metadata": {
        "id": "VCWNtGbcM9DU"
      }
    },
    {
      "cell_type": "code",
      "source": [
        "scores(predicted,labels_test_class1_class2)"
      ],
      "metadata": {
        "colab": {
          "base_uri": "https://localhost:8080/",
          "height": 35
        },
        "id": "RQUFGIcLs-1Q",
        "outputId": "e293e1f1-02de-4933-8165-d1f9b2d1842f"
      },
      "execution_count": 42,
      "outputs": [
        {
          "output_type": "execute_result",
          "data": {
            "application/vnd.google.colaboratory.intrinsic+json": {
              "type": "string"
            },
            "text/plain": [
              "'Accuracy= 1.0, Precision= 1.0, Recall= 1.0, F-Score= 1.0'"
            ]
          },
          "metadata": {},
          "execution_count": 42
        }
      ]
    },
    {
      "cell_type": "code",
      "source": [
        ""
      ],
      "metadata": {
        "id": "CtA3qn2-GPpz"
      },
      "execution_count": 42,
      "outputs": []
    },
    {
      "cell_type": "markdown",
      "source": [
        "For Class 1 and 3"
      ],
      "metadata": {
        "id": "uBPUT8x7NckI"
      }
    },
    {
      "cell_type": "markdown",
      "source": [
        "Fitting: Calculating weights, bias, loss function, X_test and labels_test"
      ],
      "metadata": {
        "id": "0-p5PtNWNckh"
      }
    },
    {
      "cell_type": "code",
      "source": [
        "W,b,loss_function, X_test_class1_class2, labels_test_class1_class2=perceptron_1v1_fit(df_train,df_test,'class-1','class-3')"
      ],
      "metadata": {
        "id": "_30GEUqKNcki"
      },
      "execution_count": 43,
      "outputs": []
    },
    {
      "cell_type": "markdown",
      "source": [
        "Printing W, b and loss function"
      ],
      "metadata": {
        "id": "-K-PB0esNcki"
      }
    },
    {
      "cell_type": "code",
      "source": [
        "print(f'Weights are {W}')\n",
        "print(f'b is {b}')\n",
        "print(f'The loss function is {loss_function}')"
      ],
      "metadata": {
        "colab": {
          "base_uri": "https://localhost:8080/"
        },
        "outputId": "419500a5-a386-4866-a0dd-9059775d6348",
        "id": "VoaWJy9vNckj"
      },
      "execution_count": 44,
      "outputs": [
        {
          "output_type": "stream",
          "name": "stdout",
          "text": [
            "Weights are [0.0001499999999999999 0.00043 -0.0007200000000000002 -0.00035]\n",
            "b is 0.0001\n",
            "The loss function is -2.6922819999999974\n"
          ]
        }
      ]
    },
    {
      "cell_type": "markdown",
      "source": [
        "Getting prediction"
      ],
      "metadata": {
        "id": "UBLstkgtNckk"
      }
    },
    {
      "cell_type": "code",
      "source": [
        "predicted=predict(X_test_class1_class2,W,b)\n",
        "predicted"
      ],
      "metadata": {
        "colab": {
          "base_uri": "https://localhost:8080/"
        },
        "outputId": "e60996de-731f-4b96-853a-2685e863ae83",
        "id": "_NHb9XNTNckk"
      },
      "execution_count": 45,
      "outputs": [
        {
          "output_type": "execute_result",
          "data": {
            "text/plain": [
              "array([ 1.,  1.,  1.,  1.,  1.,  1.,  1.,  1.,  1.,  1., -1., -1., -1.,\n",
              "       -1., -1., -1., -1., -1., -1., -1.])"
            ]
          },
          "metadata": {},
          "execution_count": 45
        }
      ]
    },
    {
      "cell_type": "markdown",
      "source": [
        "Getting Accuracy"
      ],
      "metadata": {
        "id": "2IV7wgNZNckk"
      }
    },
    {
      "cell_type": "code",
      "source": [
        "scores(predicted,labels_test_class1_class2)"
      ],
      "metadata": {
        "colab": {
          "base_uri": "https://localhost:8080/",
          "height": 35
        },
        "outputId": "34cfdac9-b684-4687-ceaf-f7cf2b98f3c7",
        "id": "9rDJ-t6JNckl"
      },
      "execution_count": 46,
      "outputs": [
        {
          "output_type": "execute_result",
          "data": {
            "application/vnd.google.colaboratory.intrinsic+json": {
              "type": "string"
            },
            "text/plain": [
              "'Accuracy= 1.0, Precision= 1.0, Recall= 1.0, F-Score= 1.0'"
            ]
          },
          "metadata": {},
          "execution_count": 46
        }
      ]
    },
    {
      "cell_type": "code",
      "source": [
        ""
      ],
      "metadata": {
        "id": "ce2OXCkCNckl"
      },
      "execution_count": 46,
      "outputs": []
    },
    {
      "cell_type": "markdown",
      "source": [
        "For Class 2 and 3"
      ],
      "metadata": {
        "id": "SkIGhKE2DGRx"
      }
    },
    {
      "cell_type": "markdown",
      "source": [
        "Fitting: Calculating weights, bias, loss function, X_test and labels_test"
      ],
      "metadata": {
        "id": "8wSSY7ZgDGRy"
      }
    },
    {
      "cell_type": "code",
      "source": [
        "W,b,loss_function, X_test_class1_class2, labels_test_class1_class2=perceptron_1v1_fit(df_train,df_test,'class-2','class-3')"
      ],
      "metadata": {
        "id": "CTusNrESDGRz"
      },
      "execution_count": 47,
      "outputs": []
    },
    {
      "cell_type": "markdown",
      "source": [
        "Printing W, b and loss function"
      ],
      "metadata": {
        "id": "leqpjKClDGRz"
      }
    },
    {
      "cell_type": "code",
      "source": [
        "print(f'Weights are {W}')\n",
        "print(f'b is {b}')\n",
        "print(f'The loss function is {loss_function}')"
      ],
      "metadata": {
        "colab": {
          "base_uri": "https://localhost:8080/"
        },
        "outputId": "207a8797-fa1b-4a26-e934-f9ff421c143d",
        "id": "8J9GcSONDGRz"
      },
      "execution_count": 48,
      "outputs": [
        {
          "output_type": "stream",
          "name": "stdout",
          "text": [
            "Weights are [0.0026200000000000017 0.003569999999999995 -0.005760000000000009\n",
            " -0.0035600000000000093]\n",
            "b is 0.0024\n",
            "The loss function is -3.2356360000000115\n"
          ]
        }
      ]
    },
    {
      "cell_type": "markdown",
      "source": [
        "Getting prediction"
      ],
      "metadata": {
        "id": "D4HHCG_DDGR0"
      }
    },
    {
      "cell_type": "code",
      "source": [
        "predicted=predict(X_test_class1_class2,W,b)\n",
        "predicted"
      ],
      "metadata": {
        "colab": {
          "base_uri": "https://localhost:8080/"
        },
        "outputId": "e3303137-a606-4bac-c103-f19078758830",
        "id": "zHcETcw-DGR0"
      },
      "execution_count": 49,
      "outputs": [
        {
          "output_type": "execute_result",
          "data": {
            "text/plain": [
              "array([-1., -1., -1.,  1., -1., -1., -1., -1.,  1., -1., -1., -1., -1.,\n",
              "       -1., -1., -1., -1., -1., -1., -1.])"
            ]
          },
          "metadata": {},
          "execution_count": 49
        }
      ]
    },
    {
      "cell_type": "markdown",
      "source": [
        "Getting Accuracy"
      ],
      "metadata": {
        "id": "YyDaaM7_DGR1"
      }
    },
    {
      "cell_type": "code",
      "source": [
        "scores(predicted,labels_test_class1_class2)"
      ],
      "metadata": {
        "colab": {
          "base_uri": "https://localhost:8080/",
          "height": 35
        },
        "outputId": "736d3dc0-7e25-4e3c-8a64-e38f68013cf8",
        "id": "cO1erAMqDGR1"
      },
      "execution_count": 50,
      "outputs": [
        {
          "output_type": "execute_result",
          "data": {
            "application/vnd.google.colaboratory.intrinsic+json": {
              "type": "string"
            },
            "text/plain": [
              "'Accuracy= 0.6, Precision= 0.2, Recall= 1.0, F-Score= 0.33333333333333337'"
            ]
          },
          "metadata": {},
          "execution_count": 50
        }
      ]
    },
    {
      "cell_type": "code",
      "source": [
        ""
      ],
      "metadata": {
        "id": "UGaILLkUNDLj"
      },
      "execution_count": 50,
      "outputs": []
    }
  ]
}